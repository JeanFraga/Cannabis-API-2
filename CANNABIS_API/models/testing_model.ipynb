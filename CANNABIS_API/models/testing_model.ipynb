{
 "cells": [
  {
   "cell_type": "code",
   "execution_count": 5,
   "metadata": {},
   "outputs": [],
   "source": [
    "import joblib\n",
    "import pandas as pd \n",
    "import numpy as np "
   ]
  },
  {
   "cell_type": "code",
   "execution_count": 7,
   "metadata": {},
   "outputs": [],
   "source": [
    "modelfile = 'NN_MJrec.pkl.zip'\n",
    "tfidffile = 'tfidf.pkl'\n",
    "nn = joblib.load(modelfile)\n",
    "tfidf = joblib.load(tfidffile)"
   ]
  },
  {
   "cell_type": "code",
   "execution_count": 8,
   "metadata": {},
   "outputs": [],
   "source": [
    "# made a compressed version of the original pkl file\n",
    "# joblib.dump(nn, 'NN_MJrec.pkl.zip', compress=5)"
   ]
  },
  {
   "cell_type": "code",
   "execution_count": 9,
   "metadata": {},
   "outputs": [],
   "source": [
    "text = 'testing string'\n",
    "text = pd.Series(text)\n",
    "vect = tfidf.transform(text)"
   ]
  },
  {
   "cell_type": "code",
   "execution_count": 13,
   "metadata": {},
   "outputs": [
    {
     "output_type": "execute_result",
     "data": {
      "text/plain": "   0     1     2     3     4     5     6     7     8     9     ...  8657  \\\n0   0.0   0.0   0.0   0.0   0.0   0.0   0.0   0.0   0.0   0.0  ...   0.0   \n\n   8658  8659  8660  8661  8662  8663  8664  8665  8666  \n0   0.0   0.0   0.0   0.0   0.0   0.0   0.0   0.0   0.0  \n\n[1 rows x 8667 columns]",
      "text/html": "<div>\n<style scoped>\n    .dataframe tbody tr th:only-of-type {\n        vertical-align: middle;\n    }\n\n    .dataframe tbody tr th {\n        vertical-align: top;\n    }\n\n    .dataframe thead th {\n        text-align: right;\n    }\n</style>\n<table border=\"1\" class=\"dataframe\">\n  <thead>\n    <tr style=\"text-align: right;\">\n      <th></th>\n      <th>0</th>\n      <th>1</th>\n      <th>2</th>\n      <th>3</th>\n      <th>4</th>\n      <th>5</th>\n      <th>6</th>\n      <th>7</th>\n      <th>8</th>\n      <th>9</th>\n      <th>...</th>\n      <th>8657</th>\n      <th>8658</th>\n      <th>8659</th>\n      <th>8660</th>\n      <th>8661</th>\n      <th>8662</th>\n      <th>8663</th>\n      <th>8664</th>\n      <th>8665</th>\n      <th>8666</th>\n    </tr>\n  </thead>\n  <tbody>\n    <tr>\n      <th>0</th>\n      <td>0.0</td>\n      <td>0.0</td>\n      <td>0.0</td>\n      <td>0.0</td>\n      <td>0.0</td>\n      <td>0.0</td>\n      <td>0.0</td>\n      <td>0.0</td>\n      <td>0.0</td>\n      <td>0.0</td>\n      <td>...</td>\n      <td>0.0</td>\n      <td>0.0</td>\n      <td>0.0</td>\n      <td>0.0</td>\n      <td>0.0</td>\n      <td>0.0</td>\n      <td>0.0</td>\n      <td>0.0</td>\n      <td>0.0</td>\n      <td>0.0</td>\n    </tr>\n  </tbody>\n</table>\n<p>1 rows × 8667 columns</p>\n</div>"
     },
     "metadata": {},
     "execution_count": 13
    }
   ],
   "source": [
    "vectdf = pd.DataFrame(vect.todense())\n",
    "vectdf"
   ]
  },
  {
   "cell_type": "code",
   "execution_count": 20,
   "metadata": {},
   "outputs": [
    {
     "output_type": "error",
     "ename": "AttributeError",
     "evalue": "'NearestNeighbors' object has no attribute 'n_samples_fit_'",
     "traceback": [
      "\u001b[0;31m---------------------------------------------------------------------------\u001b[0m",
      "\u001b[0;31mAttributeError\u001b[0m                            Traceback (most recent call last)",
      "\u001b[0;32m<ipython-input-20-e581e4acf169>\u001b[0m in \u001b[0;36m<module>\u001b[0;34m\u001b[0m\n\u001b[0;32m----> 1\u001b[0;31m \u001b[0mnn\u001b[0m\u001b[0;34m.\u001b[0m\u001b[0mkneighbors\u001b[0m\u001b[0;34m(\u001b[0m\u001b[0;34m[\u001b[0m\u001b[0mvectdf\u001b[0m\u001b[0;34m]\u001b[0m\u001b[0;34m[\u001b[0m\u001b[0;36m0\u001b[0m\u001b[0;34m]\u001b[0m\u001b[0;34m,\u001b[0m \u001b[0mn_neighbors\u001b[0m\u001b[0;34m=\u001b[0m\u001b[0;36m5\u001b[0m\u001b[0;34m)\u001b[0m\u001b[0;34m[\u001b[0m\u001b[0;36m1\u001b[0m\u001b[0;34m]\u001b[0m\u001b[0;34m[\u001b[0m\u001b[0;36m0\u001b[0m\u001b[0;34m]\u001b[0m\u001b[0;34m.\u001b[0m\u001b[0mtolist\u001b[0m\u001b[0;34m(\u001b[0m\u001b[0;34m)\u001b[0m\u001b[0;34m\u001b[0m\u001b[0;34m\u001b[0m\u001b[0m\n\u001b[0m",
      "\u001b[0;32m~/.local/lib/python3.8/site-packages/sklearn/neighbors/_base.py\u001b[0m in \u001b[0;36mkneighbors\u001b[0;34m(self, X, n_neighbors, return_distance)\u001b[0m\n\u001b[1;32m    611\u001b[0m             \u001b[0mn_neighbors\u001b[0m \u001b[0;34m+=\u001b[0m \u001b[0;36m1\u001b[0m\u001b[0;34m\u001b[0m\u001b[0;34m\u001b[0m\u001b[0m\n\u001b[1;32m    612\u001b[0m \u001b[0;34m\u001b[0m\u001b[0m\n\u001b[0;32m--> 613\u001b[0;31m         \u001b[0mn_samples_fit\u001b[0m \u001b[0;34m=\u001b[0m \u001b[0mself\u001b[0m\u001b[0;34m.\u001b[0m\u001b[0mn_samples_fit_\u001b[0m\u001b[0;34m\u001b[0m\u001b[0;34m\u001b[0m\u001b[0m\n\u001b[0m\u001b[1;32m    614\u001b[0m         \u001b[0;32mif\u001b[0m \u001b[0mn_neighbors\u001b[0m \u001b[0;34m>\u001b[0m \u001b[0mn_samples_fit\u001b[0m\u001b[0;34m:\u001b[0m\u001b[0;34m\u001b[0m\u001b[0;34m\u001b[0m\u001b[0m\n\u001b[1;32m    615\u001b[0m             raise ValueError(\n",
      "\u001b[0;31mAttributeError\u001b[0m: 'NearestNeighbors' object has no attribute 'n_samples_fit_'"
     ]
    }
   ],
   "source": [
    "# some feature of this model seems to be deprecated, making model from scratch now\n",
    "# nn.kneighbors([vectdf][0], n_neighbors=5)[1][0].tolist()"
   ]
  },
  {
   "cell_type": "code",
   "execution_count": 1,
   "metadata": {},
   "outputs": [],
   "source": [
    "import seaborn as sns\n",
    "import matplotlib.pyplot as plt\n",
    "\n",
    "from sklearn.feature_extraction.text import CountVectorizer, TfidfVectorizer\n",
    "from sklearn.metrics.pairwise import cosine_similarity\n",
    "from sklearn.neighbors import NearestNeighbors\n",
    "from sklearn.decomposition import PCA\n",
    "\n",
    "import spacy\n",
    "from spacy.tokenizer import Tokenizer\n",
    "from nltk.stem import PorterStemmer\n",
    "nlp = spacy.load(\"en_core_web_lg\")"
   ]
  },
  {
   "cell_type": "code",
   "execution_count": 6,
   "metadata": {},
   "outputs": [
    {
     "output_type": "execute_result",
     "data": {
      "text/plain": "           Strain    Type  Rating                                     Effects  \\\n0          100-Og  hybrid     4.0  Creative,Energetic,Tingly,Euphoric,Relaxed   \n1  98-White-Widow  hybrid     4.7    Relaxed,Aroused,Creative,Happy,Energetic   \n2            1024  sativa     4.4   Uplifted,Happy,Relaxed,Energetic,Creative   \n3        13-Dawgs  hybrid     4.2     Tingly,Creative,Hungry,Relaxed,Uplifted   \n4        24K-Gold  hybrid     4.6   Happy,Relaxed,Euphoric,Uplifted,Talkative   \n\n                      Flavor  \\\n0        Earthy,Sweet,Citrus   \n1      Flowery,Violet,Diesel   \n2    Spicy/Herbal,Sage,Woody   \n3  Apricot,Citrus,Grapefruit   \n4       Citrus,Earthy,Orange   \n\n                                         Description  \n0  $100 OG is a 50/50 hybrid strain that packs a ...  \n1  The ‘98 Aloha White Widow is an especially pot...  \n2  1024 is a sativa-dominant hybrid bred in Spain...  \n3  13 Dawgs is a hybrid of G13 and Chemdawg genet...  \n4  Also known as Kosher Tangie, 24k Gold is a 60%...  ",
      "text/html": "<div>\n<style scoped>\n    .dataframe tbody tr th:only-of-type {\n        vertical-align: middle;\n    }\n\n    .dataframe tbody tr th {\n        vertical-align: top;\n    }\n\n    .dataframe thead th {\n        text-align: right;\n    }\n</style>\n<table border=\"1\" class=\"dataframe\">\n  <thead>\n    <tr style=\"text-align: right;\">\n      <th></th>\n      <th>Strain</th>\n      <th>Type</th>\n      <th>Rating</th>\n      <th>Effects</th>\n      <th>Flavor</th>\n      <th>Description</th>\n    </tr>\n  </thead>\n  <tbody>\n    <tr>\n      <th>0</th>\n      <td>100-Og</td>\n      <td>hybrid</td>\n      <td>4.0</td>\n      <td>Creative,Energetic,Tingly,Euphoric,Relaxed</td>\n      <td>Earthy,Sweet,Citrus</td>\n      <td>$100 OG is a 50/50 hybrid strain that packs a ...</td>\n    </tr>\n    <tr>\n      <th>1</th>\n      <td>98-White-Widow</td>\n      <td>hybrid</td>\n      <td>4.7</td>\n      <td>Relaxed,Aroused,Creative,Happy,Energetic</td>\n      <td>Flowery,Violet,Diesel</td>\n      <td>The ‘98 Aloha White Widow is an especially pot...</td>\n    </tr>\n    <tr>\n      <th>2</th>\n      <td>1024</td>\n      <td>sativa</td>\n      <td>4.4</td>\n      <td>Uplifted,Happy,Relaxed,Energetic,Creative</td>\n      <td>Spicy/Herbal,Sage,Woody</td>\n      <td>1024 is a sativa-dominant hybrid bred in Spain...</td>\n    </tr>\n    <tr>\n      <th>3</th>\n      <td>13-Dawgs</td>\n      <td>hybrid</td>\n      <td>4.2</td>\n      <td>Tingly,Creative,Hungry,Relaxed,Uplifted</td>\n      <td>Apricot,Citrus,Grapefruit</td>\n      <td>13 Dawgs is a hybrid of G13 and Chemdawg genet...</td>\n    </tr>\n    <tr>\n      <th>4</th>\n      <td>24K-Gold</td>\n      <td>hybrid</td>\n      <td>4.6</td>\n      <td>Happy,Relaxed,Euphoric,Uplifted,Talkative</td>\n      <td>Citrus,Earthy,Orange</td>\n      <td>Also known as Kosher Tangie, 24k Gold is a 60%...</td>\n    </tr>\n  </tbody>\n</table>\n</div>"
     },
     "metadata": {},
     "execution_count": 6
    }
   ],
   "source": [
    "df = pd.read_csv('cannabis-strains.zip')\n",
    "df.head()"
   ]
  },
  {
   "cell_type": "code",
   "execution_count": 7,
   "metadata": {},
   "outputs": [],
   "source": [
    "df = df.fillna('None')"
   ]
  },
  {
   "cell_type": "code",
   "execution_count": 8,
   "metadata": {},
   "outputs": [],
   "source": [
    "df['bag_of_words'] = df['Strain']+\" \"+df[\"Effects\"] +\" \"+ df[\"Flavor\"] +\" \"+ df['Description'] +\" \"+ df['Type']"
   ]
  },
  {
   "cell_type": "code",
   "execution_count": 9,
   "metadata": {},
   "outputs": [
    {
     "output_type": "execute_result",
     "data": {
      "text/plain": "0    100-Og Creative,Energetic,Tingly,Euphoric,Rela...\n1    98-White-Widow Relaxed,Aroused,Creative,Happy,...\n2    1024 Uplifted,Happy,Relaxed,Energetic,Creative...\n3    13-Dawgs Tingly,Creative,Hungry,Relaxed,Uplift...\n4    24K-Gold Happy,Relaxed,Euphoric,Uplifted,Talka...\nName: bag_of_words, dtype: object"
     },
     "metadata": {},
     "execution_count": 9
    }
   ],
   "source": [
    "df['bag_of_words'].head()"
   ]
  },
  {
   "cell_type": "code",
   "execution_count": 10,
   "metadata": {},
   "outputs": [],
   "source": [
    "tokenizer = Tokenizer(nlp.vocab)"
   ]
  },
  {
   "cell_type": "code",
   "execution_count": 11,
   "metadata": {},
   "outputs": [],
   "source": [
    "tokens = []\n",
    "\n",
    "\"\"\" Make them tokens \"\"\"\n",
    "for doc in tokenizer.pipe(df['bag_of_words'], batch_size=500):\n",
    "    doc_tokens = [token.text for token in doc]\n",
    "    tokens.append(doc_tokens)\n",
    "\n",
    "df['tokens'] = tokens"
   ]
  },
  {
   "cell_type": "code",
   "execution_count": 12,
   "metadata": {},
   "outputs": [
    {
     "output_type": "execute_result",
     "data": {
      "text/plain": "0    [100-Og, Creative,Energetic,Tingly,Euphoric,Re...\n1    [98-White-Widow, Relaxed,Aroused,Creative,Happ...\n2    [1024, Uplifted,Happy,Relaxed,Energetic,Creati...\n3    [13-Dawgs, Tingly,Creative,Hungry,Relaxed,Upli...\n4    [24K-Gold, Happy,Relaxed,Euphoric,Uplifted,Tal...\nName: tokens, dtype: object"
     },
     "metadata": {},
     "execution_count": 12
    }
   ],
   "source": [
    "df['tokens'].head()"
   ]
  },
  {
   "cell_type": "code",
   "execution_count": 13,
   "metadata": {},
   "outputs": [],
   "source": [
    "df.to_csv('cannabis-strains-token.zip')"
   ]
  },
  {
   "cell_type": "code",
   "execution_count": 14,
   "metadata": {},
   "outputs": [
    {
     "output_type": "execute_result",
     "data": {
      "text/plain": "   Unnamed: 0          Strain    Type  Rating  \\\n0           0          100-Og  hybrid     4.0   \n1           1  98-White-Widow  hybrid     4.7   \n2           2            1024  sativa     4.4   \n3           3        13-Dawgs  hybrid     4.2   \n4           4        24K-Gold  hybrid     4.6   \n\n                                      Effects                     Flavor  \\\n0  Creative,Energetic,Tingly,Euphoric,Relaxed        Earthy,Sweet,Citrus   \n1    Relaxed,Aroused,Creative,Happy,Energetic      Flowery,Violet,Diesel   \n2   Uplifted,Happy,Relaxed,Energetic,Creative    Spicy/Herbal,Sage,Woody   \n3     Tingly,Creative,Hungry,Relaxed,Uplifted  Apricot,Citrus,Grapefruit   \n4   Happy,Relaxed,Euphoric,Uplifted,Talkative       Citrus,Earthy,Orange   \n\n                                         Description  \\\n0  $100 OG is a 50/50 hybrid strain that packs a ...   \n1  The ‘98 Aloha White Widow is an especially pot...   \n2  1024 is a sativa-dominant hybrid bred in Spain...   \n3  13 Dawgs is a hybrid of G13 and Chemdawg genet...   \n4  Also known as Kosher Tangie, 24k Gold is a 60%...   \n\n                                        bag_of_words  \\\n0  100-Og Creative,Energetic,Tingly,Euphoric,Rela...   \n1  98-White-Widow Relaxed,Aroused,Creative,Happy,...   \n2  1024 Uplifted,Happy,Relaxed,Energetic,Creative...   \n3  13-Dawgs Tingly,Creative,Hungry,Relaxed,Uplift...   \n4  24K-Gold Happy,Relaxed,Euphoric,Uplifted,Talka...   \n\n                                              tokens  \n0  ['100-Og', 'Creative,Energetic,Tingly,Euphoric...  \n1  ['98-White-Widow', 'Relaxed,Aroused,Creative,H...  \n2  ['1024', 'Uplifted,Happy,Relaxed,Energetic,Cre...  \n3  ['13-Dawgs', 'Tingly,Creative,Hungry,Relaxed,U...  \n4  ['24K-Gold', 'Happy,Relaxed,Euphoric,Uplifted,...  ",
      "text/html": "<div>\n<style scoped>\n    .dataframe tbody tr th:only-of-type {\n        vertical-align: middle;\n    }\n\n    .dataframe tbody tr th {\n        vertical-align: top;\n    }\n\n    .dataframe thead th {\n        text-align: right;\n    }\n</style>\n<table border=\"1\" class=\"dataframe\">\n  <thead>\n    <tr style=\"text-align: right;\">\n      <th></th>\n      <th>Unnamed: 0</th>\n      <th>Strain</th>\n      <th>Type</th>\n      <th>Rating</th>\n      <th>Effects</th>\n      <th>Flavor</th>\n      <th>Description</th>\n      <th>bag_of_words</th>\n      <th>tokens</th>\n    </tr>\n  </thead>\n  <tbody>\n    <tr>\n      <th>0</th>\n      <td>0</td>\n      <td>100-Og</td>\n      <td>hybrid</td>\n      <td>4.0</td>\n      <td>Creative,Energetic,Tingly,Euphoric,Relaxed</td>\n      <td>Earthy,Sweet,Citrus</td>\n      <td>$100 OG is a 50/50 hybrid strain that packs a ...</td>\n      <td>100-Og Creative,Energetic,Tingly,Euphoric,Rela...</td>\n      <td>['100-Og', 'Creative,Energetic,Tingly,Euphoric...</td>\n    </tr>\n    <tr>\n      <th>1</th>\n      <td>1</td>\n      <td>98-White-Widow</td>\n      <td>hybrid</td>\n      <td>4.7</td>\n      <td>Relaxed,Aroused,Creative,Happy,Energetic</td>\n      <td>Flowery,Violet,Diesel</td>\n      <td>The ‘98 Aloha White Widow is an especially pot...</td>\n      <td>98-White-Widow Relaxed,Aroused,Creative,Happy,...</td>\n      <td>['98-White-Widow', 'Relaxed,Aroused,Creative,H...</td>\n    </tr>\n    <tr>\n      <th>2</th>\n      <td>2</td>\n      <td>1024</td>\n      <td>sativa</td>\n      <td>4.4</td>\n      <td>Uplifted,Happy,Relaxed,Energetic,Creative</td>\n      <td>Spicy/Herbal,Sage,Woody</td>\n      <td>1024 is a sativa-dominant hybrid bred in Spain...</td>\n      <td>1024 Uplifted,Happy,Relaxed,Energetic,Creative...</td>\n      <td>['1024', 'Uplifted,Happy,Relaxed,Energetic,Cre...</td>\n    </tr>\n    <tr>\n      <th>3</th>\n      <td>3</td>\n      <td>13-Dawgs</td>\n      <td>hybrid</td>\n      <td>4.2</td>\n      <td>Tingly,Creative,Hungry,Relaxed,Uplifted</td>\n      <td>Apricot,Citrus,Grapefruit</td>\n      <td>13 Dawgs is a hybrid of G13 and Chemdawg genet...</td>\n      <td>13-Dawgs Tingly,Creative,Hungry,Relaxed,Uplift...</td>\n      <td>['13-Dawgs', 'Tingly,Creative,Hungry,Relaxed,U...</td>\n    </tr>\n    <tr>\n      <th>4</th>\n      <td>4</td>\n      <td>24K-Gold</td>\n      <td>hybrid</td>\n      <td>4.6</td>\n      <td>Happy,Relaxed,Euphoric,Uplifted,Talkative</td>\n      <td>Citrus,Earthy,Orange</td>\n      <td>Also known as Kosher Tangie, 24k Gold is a 60%...</td>\n      <td>24K-Gold Happy,Relaxed,Euphoric,Uplifted,Talka...</td>\n      <td>['24K-Gold', 'Happy,Relaxed,Euphoric,Uplifted,...</td>\n    </tr>\n  </tbody>\n</table>\n</div>"
     },
     "metadata": {},
     "execution_count": 14
    }
   ],
   "source": [
    "df = pd.read_csv('cannabis-strains-token.zip')\n",
    "df.head()"
   ]
  },
  {
   "cell_type": "code",
   "execution_count": 37,
   "metadata": {},
   "outputs": [
    {
     "output_type": "execute_result",
     "data": {
      "text/plain": "\"['100-Og', 'Creative,Energetic,Tingly,Euphoric,Relaxed', 'Earthy,Sweet,Citrus', '$100', 'OG', 'is', 'a', '50/50', 'hybrid', 'strain', 'that', 'packs', 'a', 'strong', 'punch.', 'The', 'name', 'supposedly', 'refers', 'to', 'both', 'its', 'strength', 'and', 'high', 'price', 'when', 'it', 'first', 'started', 'showing', 'up', 'in', 'Hollywood.', 'As', 'a', 'plant,', '$100', 'OG', 'tends', 'to', 'produce', 'large', 'dark', 'green', 'buds', 'with', 'few', 'stems.', 'Users', 'report', 'a', 'strong', 'body', 'effect', 'of', 'an', 'indica', 'for', 'pain', 'relief', 'with', 'the', 'more', 'alert,', 'cerebral', 'feeling', 'thanks', 'to', 'its', 'sativa', 'side.', 'hybrid']\""
     },
     "metadata": {},
     "execution_count": 37
    }
   ],
   "source": [
    "# if '100-Og' in df['Strain']:\n",
    "temp = df[df['Strain']=='100-Og'] \n",
    "temp.tokens[0]"
   ]
  },
  {
   "cell_type": "code",
   "execution_count": 22,
   "metadata": {},
   "outputs": [
    {
     "output_type": "execute_result",
     "data": {
      "text/plain": "'100-Og'"
     },
     "metadata": {},
     "execution_count": 22
    }
   ],
   "source": [
    "df.Strain[0]"
   ]
  },
  {
   "cell_type": "code",
   "execution_count": 42,
   "metadata": {},
   "outputs": [
    {
     "output_type": "execute_result",
     "data": {
      "text/plain": "    00  001   07   09   10       100      1024  10th   11  115  ...  zeta  \\\n0  0.0  0.0  0.0  0.0  0.0  0.559137  0.000000   0.0  0.0  0.0  ...   0.0   \n1  0.0  0.0  0.0  0.0  0.0  0.000000  0.000000   0.0  0.0  0.0  ...   0.0   \n2  0.0  0.0  0.0  0.0  0.0  0.000000  0.585883   0.0  0.0  0.0  ...   0.0   \n3  0.0  0.0  0.0  0.0  0.0  0.000000  0.000000   0.0  0.0  0.0  ...   0.0   \n4  0.0  0.0  0.0  0.0  0.0  0.000000  0.000000   0.0  0.0  0.0  ...   0.0   \n\n   zeus  zingers  zion  zipping  zkittlez  zombie  zone  zoning  zoom  \n0   0.0      0.0   0.0      0.0       0.0     0.0   0.0     0.0   0.0  \n1   0.0      0.0   0.0      0.0       0.0     0.0   0.0     0.0   0.0  \n2   0.0      0.0   0.0      0.0       0.0     0.0   0.0     0.0   0.0  \n3   0.0      0.0   0.0      0.0       0.0     0.0   0.0     0.0   0.0  \n4   0.0      0.0   0.0      0.0       0.0     0.0   0.0     0.0   0.0  \n\n[5 rows x 8658 columns]",
      "text/html": "<div>\n<style scoped>\n    .dataframe tbody tr th:only-of-type {\n        vertical-align: middle;\n    }\n\n    .dataframe tbody tr th {\n        vertical-align: top;\n    }\n\n    .dataframe thead th {\n        text-align: right;\n    }\n</style>\n<table border=\"1\" class=\"dataframe\">\n  <thead>\n    <tr style=\"text-align: right;\">\n      <th></th>\n      <th>00</th>\n      <th>001</th>\n      <th>07</th>\n      <th>09</th>\n      <th>10</th>\n      <th>100</th>\n      <th>1024</th>\n      <th>10th</th>\n      <th>11</th>\n      <th>115</th>\n      <th>...</th>\n      <th>zeta</th>\n      <th>zeus</th>\n      <th>zingers</th>\n      <th>zion</th>\n      <th>zipping</th>\n      <th>zkittlez</th>\n      <th>zombie</th>\n      <th>zone</th>\n      <th>zoning</th>\n      <th>zoom</th>\n    </tr>\n  </thead>\n  <tbody>\n    <tr>\n      <th>0</th>\n      <td>0.0</td>\n      <td>0.0</td>\n      <td>0.0</td>\n      <td>0.0</td>\n      <td>0.0</td>\n      <td>0.559137</td>\n      <td>0.000000</td>\n      <td>0.0</td>\n      <td>0.0</td>\n      <td>0.0</td>\n      <td>...</td>\n      <td>0.0</td>\n      <td>0.0</td>\n      <td>0.0</td>\n      <td>0.0</td>\n      <td>0.0</td>\n      <td>0.0</td>\n      <td>0.0</td>\n      <td>0.0</td>\n      <td>0.0</td>\n      <td>0.0</td>\n    </tr>\n    <tr>\n      <th>1</th>\n      <td>0.0</td>\n      <td>0.0</td>\n      <td>0.0</td>\n      <td>0.0</td>\n      <td>0.0</td>\n      <td>0.000000</td>\n      <td>0.000000</td>\n      <td>0.0</td>\n      <td>0.0</td>\n      <td>0.0</td>\n      <td>...</td>\n      <td>0.0</td>\n      <td>0.0</td>\n      <td>0.0</td>\n      <td>0.0</td>\n      <td>0.0</td>\n      <td>0.0</td>\n      <td>0.0</td>\n      <td>0.0</td>\n      <td>0.0</td>\n      <td>0.0</td>\n    </tr>\n    <tr>\n      <th>2</th>\n      <td>0.0</td>\n      <td>0.0</td>\n      <td>0.0</td>\n      <td>0.0</td>\n      <td>0.0</td>\n      <td>0.000000</td>\n      <td>0.585883</td>\n      <td>0.0</td>\n      <td>0.0</td>\n      <td>0.0</td>\n      <td>...</td>\n      <td>0.0</td>\n      <td>0.0</td>\n      <td>0.0</td>\n      <td>0.0</td>\n      <td>0.0</td>\n      <td>0.0</td>\n      <td>0.0</td>\n      <td>0.0</td>\n      <td>0.0</td>\n      <td>0.0</td>\n    </tr>\n    <tr>\n      <th>3</th>\n      <td>0.0</td>\n      <td>0.0</td>\n      <td>0.0</td>\n      <td>0.0</td>\n      <td>0.0</td>\n      <td>0.000000</td>\n      <td>0.000000</td>\n      <td>0.0</td>\n      <td>0.0</td>\n      <td>0.0</td>\n      <td>...</td>\n      <td>0.0</td>\n      <td>0.0</td>\n      <td>0.0</td>\n      <td>0.0</td>\n      <td>0.0</td>\n      <td>0.0</td>\n      <td>0.0</td>\n      <td>0.0</td>\n      <td>0.0</td>\n      <td>0.0</td>\n    </tr>\n    <tr>\n      <th>4</th>\n      <td>0.0</td>\n      <td>0.0</td>\n      <td>0.0</td>\n      <td>0.0</td>\n      <td>0.0</td>\n      <td>0.000000</td>\n      <td>0.000000</td>\n      <td>0.0</td>\n      <td>0.0</td>\n      <td>0.0</td>\n      <td>...</td>\n      <td>0.0</td>\n      <td>0.0</td>\n      <td>0.0</td>\n      <td>0.0</td>\n      <td>0.0</td>\n      <td>0.0</td>\n      <td>0.0</td>\n      <td>0.0</td>\n      <td>0.0</td>\n      <td>0.0</td>\n    </tr>\n  </tbody>\n</table>\n<p>5 rows × 8658 columns</p>\n</div>"
     },
     "metadata": {},
     "execution_count": 42
    }
   ],
   "source": [
    "\n",
    "from sklearn.feature_extraction.text import TfidfVectorizer\n",
    "\n",
    "# Instantiate vectorizer object\n",
    "tfidf = TfidfVectorizer(stop_words='english')\n",
    "\n",
    "# Create a vocabulary and get word counts per document\n",
    "#Similar to fit_predict\n",
    "dtm = tfidf.fit_transform(df['bag_of_words'])\n",
    "\n",
    "# Print word counts\n",
    "\n",
    "# Get feature names to use as dataframe column headers\n",
    "dtm = pd.DataFrame(dtm.todense(), columns=tfidf.get_feature_names())\n",
    "\n",
    "# View Feature Matrix as DataFrame\n",
    "dtm.head()"
   ]
  },
  {
   "cell_type": "code",
   "execution_count": 43,
   "metadata": {},
   "outputs": [
    {
     "output_type": "execute_result",
     "data": {
      "text/plain": "NearestNeighbors(algorithm='kd_tree', leaf_size=30, metric='minkowski',\n                 metric_params=None, n_jobs=None, n_neighbors=5, p=2,\n                 radius=1.0)"
     },
     "metadata": {},
     "execution_count": 43
    }
   ],
   "source": [
    "\n",
    "# Instantiate\n",
    "from sklearn.neighbors import NearestNeighbors\n",
    "from sklearn.feature_extraction.text import TfidfVectorizer\n",
    "\n",
    "\n",
    "# Fit on TF-IDF Vectors\n",
    "nn  = NearestNeighbors(n_neighbors=5, algorithm='kd_tree')\n",
    "nn.fit(dtm)"
   ]
  },
  {
   "cell_type": "code",
   "execution_count": 44,
   "metadata": {},
   "outputs": [
    {
     "output_type": "execute_result",
     "data": {
      "text/plain": "(array([[0.        , 1.04504707, 1.09588259, 1.26568839, 1.27157659]]),\n array([[378,  90, 929, 888, 918]]))"
     },
     "metadata": {},
     "execution_count": 44
    }
   ],
   "source": [
    "# Query Using kneighbors \n",
    "nn.kneighbors([dtm.iloc[378]])"
   ]
  },
  {
   "cell_type": "code",
   "execution_count": 45,
   "metadata": {},
   "outputs": [
    {
     "output_type": "execute_result",
     "data": {
      "text/plain": "'Bright-Moments None None Bright Moments by Gage Green Group is a delicious cross of heirloom Grape Stomper genetics. Created by crossing Grape Stomper and Grape Stomper OG, Gage Green fashions an incr'"
     },
     "metadata": {},
     "execution_count": 45
    }
   ],
   "source": [
    "df['bag_of_words'][378][:200]"
   ]
  },
  {
   "cell_type": "code",
   "execution_count": 46,
   "metadata": {},
   "outputs": [
    {
     "output_type": "execute_result",
     "data": {
      "text/plain": "\"Sour-Grapes Happy,Relaxed,Uplifted,Euphoric,Hungry Grape,Sweet,Berry Also called 'Sour Grapes,' Grape Stomper\\xa0is a craft hybridstrain created by Gage Green Seeds. A complex cross between breeder JojoR\""
     },
     "metadata": {},
     "execution_count": 46
    }
   ],
   "source": [
    "df['bag_of_words'][929][:200]"
   ]
  },
  {
   "cell_type": "code",
   "execution_count": 47,
   "metadata": {},
   "outputs": [
    {
     "output_type": "execute_result",
     "data": {
      "text/plain": "['NN_MJrec.pkl.zip']"
     },
     "metadata": {},
     "execution_count": 47
    }
   ],
   "source": [
    "joblib.dump(nn, 'NN_MJrec.pkl.zip', compress=5)"
   ]
  },
  {
   "cell_type": "code",
   "execution_count": 48,
   "metadata": {},
   "outputs": [
    {
     "output_type": "execute_result",
     "data": {
      "text/plain": "['tfidf.pkl.zip']"
     },
     "metadata": {},
     "execution_count": 48
    }
   ],
   "source": [
    "joblib.dump(tfidf, \"tfidf.pkl.zip\", compress=5)"
   ]
  },
  {
   "cell_type": "code",
   "execution_count": 49,
   "metadata": {},
   "outputs": [],
   "source": [
    "nn = joblib.load('NN_MJrec.pkl.zip')\n",
    "tfidf = joblib.load('tfidf.pkl.zip')"
   ]
  },
  {
   "cell_type": "code",
   "execution_count": 50,
   "metadata": {},
   "outputs": [],
   "source": [
    "def recommend(text):\n",
    "   # Transform\n",
    "    text = pd.Series(text)\n",
    "    vect = tfidf.transform(text)\n",
    "\n",
    "    # Send to df\n",
    "    vectdf = pd.DataFrame(vect.todense())\n",
    "    \n",
    "\n",
    "    # Return a list of indexes\n",
    "    top5 = nn.kneighbors([vectdf][0], n_neighbors=5)[1][0].tolist()\n",
    "   \n",
    "    \n",
    "    # Send recomendations to DataFrame\n",
    "    recommendations_df = df.iloc[top5]\n",
    "    recommendations_df['index']= recommendations_df.index\n",
    "    \n",
    "    return recommendations_df"
   ]
  },
  {
   "cell_type": "code",
   "execution_count": 51,
   "metadata": {},
   "outputs": [
    {
     "output_type": "execute_result",
     "data": {
      "text/plain": "              Strain    Type  Rating  \\\n1438   Mt-Hood-Magic  hybrid     4.7   \n1273       Lemon-Pie  sativa     4.2   \n1705  Purple-Og-Kush  indica     4.4   \n1329    Magic-Jordan  hybrid     4.0   \n890     Golden-Lemon  hybrid     4.7   \n\n                                          Effects                Flavor  \\\n1438     Euphoric,Happy,Creative,Focused,Uplifted   Earthy,Sweet,Citrus   \n1273  Energetic,Euphoric,Uplifted,Talkative,Happy   Lemon,Citrus,Diesel   \n1705         Sleepy,Relaxed,Happy,Euphoric,Hungry  Earthy,Sweet,Pungent   \n1329    Euphoric,Focused,Tingly,Uplifted,Creative    Minty,Orange,Lemon   \n890        Uplifted,Relaxed,Euphoric,Tingly,Happy    Lemon,Citrus,Sweet   \n\n                                            Description  \\\n1438  Thought to be exclusive to Portland, Oregon di...   \n1273  Lemon Pie from Leafs by Snoop is a sativa-domi...   \n1705  Have some snacks ready before testing out this...   \n1329  Magic Jordan is another mysterious Hawaiian cu...   \n890   Golden Lemon by DNA Genetics is citrusy strain...   \n\n                                           bag_of_words  \\\n1438  Mt-Hood-Magic Euphoric,Happy,Creative,Focused,...   \n1273  Lemon-Pie Energetic,Euphoric,Uplifted,Talkativ...   \n1705  Purple-Og-Kush Sleepy,Relaxed,Happy,Euphoric,H...   \n1329  Magic-Jordan Euphoric,Focused,Tingly,Uplifted,...   \n890   Golden-Lemon Uplifted,Relaxed,Euphoric,Tingly,...   \n\n                                                 tokens  index  \n1438  [Mt-Hood-Magic, Euphoric,Happy,Creative,Focuse...   1438  \n1273  [Lemon-Pie, Energetic,Euphoric,Uplifted,Talkat...   1273  \n1705  [Purple-Og-Kush, Sleepy,Relaxed,Happy,Euphoric...   1705  \n1329  [Magic-Jordan, Euphoric,Focused,Tingly,Uplifte...   1329  \n890   [Golden-Lemon, Uplifted,Relaxed,Euphoric,Tingl...    890  ",
      "text/html": "<div>\n<style scoped>\n    .dataframe tbody tr th:only-of-type {\n        vertical-align: middle;\n    }\n\n    .dataframe tbody tr th {\n        vertical-align: top;\n    }\n\n    .dataframe thead th {\n        text-align: right;\n    }\n</style>\n<table border=\"1\" class=\"dataframe\">\n  <thead>\n    <tr style=\"text-align: right;\">\n      <th></th>\n      <th>Strain</th>\n      <th>Type</th>\n      <th>Rating</th>\n      <th>Effects</th>\n      <th>Flavor</th>\n      <th>Description</th>\n      <th>bag_of_words</th>\n      <th>tokens</th>\n      <th>index</th>\n    </tr>\n  </thead>\n  <tbody>\n    <tr>\n      <th>1438</th>\n      <td>Mt-Hood-Magic</td>\n      <td>hybrid</td>\n      <td>4.7</td>\n      <td>Euphoric,Happy,Creative,Focused,Uplifted</td>\n      <td>Earthy,Sweet,Citrus</td>\n      <td>Thought to be exclusive to Portland, Oregon di...</td>\n      <td>Mt-Hood-Magic Euphoric,Happy,Creative,Focused,...</td>\n      <td>[Mt-Hood-Magic, Euphoric,Happy,Creative,Focuse...</td>\n      <td>1438</td>\n    </tr>\n    <tr>\n      <th>1273</th>\n      <td>Lemon-Pie</td>\n      <td>sativa</td>\n      <td>4.2</td>\n      <td>Energetic,Euphoric,Uplifted,Talkative,Happy</td>\n      <td>Lemon,Citrus,Diesel</td>\n      <td>Lemon Pie from Leafs by Snoop is a sativa-domi...</td>\n      <td>Lemon-Pie Energetic,Euphoric,Uplifted,Talkativ...</td>\n      <td>[Lemon-Pie, Energetic,Euphoric,Uplifted,Talkat...</td>\n      <td>1273</td>\n    </tr>\n    <tr>\n      <th>1705</th>\n      <td>Purple-Og-Kush</td>\n      <td>indica</td>\n      <td>4.4</td>\n      <td>Sleepy,Relaxed,Happy,Euphoric,Hungry</td>\n      <td>Earthy,Sweet,Pungent</td>\n      <td>Have some snacks ready before testing out this...</td>\n      <td>Purple-Og-Kush Sleepy,Relaxed,Happy,Euphoric,H...</td>\n      <td>[Purple-Og-Kush, Sleepy,Relaxed,Happy,Euphoric...</td>\n      <td>1705</td>\n    </tr>\n    <tr>\n      <th>1329</th>\n      <td>Magic-Jordan</td>\n      <td>hybrid</td>\n      <td>4.0</td>\n      <td>Euphoric,Focused,Tingly,Uplifted,Creative</td>\n      <td>Minty,Orange,Lemon</td>\n      <td>Magic Jordan is another mysterious Hawaiian cu...</td>\n      <td>Magic-Jordan Euphoric,Focused,Tingly,Uplifted,...</td>\n      <td>[Magic-Jordan, Euphoric,Focused,Tingly,Uplifte...</td>\n      <td>1329</td>\n    </tr>\n    <tr>\n      <th>890</th>\n      <td>Golden-Lemon</td>\n      <td>hybrid</td>\n      <td>4.7</td>\n      <td>Uplifted,Relaxed,Euphoric,Tingly,Happy</td>\n      <td>Lemon,Citrus,Sweet</td>\n      <td>Golden Lemon by DNA Genetics is citrusy strain...</td>\n      <td>Golden-Lemon Uplifted,Relaxed,Euphoric,Tingly,...</td>\n      <td>[Golden-Lemon, Uplifted,Relaxed,Euphoric,Tingl...</td>\n      <td>890</td>\n    </tr>\n  </tbody>\n</table>\n</div>"
     },
     "metadata": {},
     "execution_count": 51
    }
   ],
   "source": [
    "recommend(text)"
   ]
  },
  {
   "cell_type": "code",
   "execution_count": null,
   "metadata": {},
   "outputs": [],
   "source": []
  }
 ],
 "metadata": {
  "language_info": {
   "codemirror_mode": {
    "name": "ipython",
    "version": 3
   },
   "file_extension": ".py",
   "mimetype": "text/x-python",
   "name": "python",
   "nbconvert_exporter": "python",
   "pygments_lexer": "ipython3",
   "version": "3.8.2-final"
  },
  "orig_nbformat": 2,
  "kernelspec": {
   "name": "python38264bitbe26fe6d86f24e3cafd254109cf5378d",
   "display_name": "Python 3.8.2 64-bit"
  }
 },
 "nbformat": 4,
 "nbformat_minor": 2
}